{
 "cells": [
  {
   "cell_type": "markdown",
   "id": "8559fa0b-6639-42ec-bd4c-346fc51f1652",
   "metadata": {},
   "source": [
    "### Numpy Assignment"
   ]
  },
  {
   "cell_type": "code",
   "execution_count": 86,
   "id": "9c2d0c3f-b014-4319-be27-e90e5ffdbfc3",
   "metadata": {},
   "outputs": [],
   "source": [
    "# import numpy as np\n",
    "# import random\n",
    "# import pandas as pd"
   ]
  },
  {
   "cell_type": "code",
   "execution_count": 87,
   "id": "fa6f08b6-dd1a-41b8-b038-bcc4d4f37c9c",
   "metadata": {},
   "outputs": [],
   "source": [
    "##1. Create a NumPy array 'arr' of integers from 0 to 5 and print its data type.\n",
    "\n",
    "\n",
    "\n",
    "# arr = np.arange(0,6)\n",
    "# arr.dtype"
   ]
  },
  {
   "cell_type": "code",
   "execution_count": 3,
   "id": "015d9366-ad5c-464c-b474-f9457a5d153b",
   "metadata": {},
   "outputs": [],
   "source": [
    "##2. Given a numpy 'arr' check if its data type is float64.\n",
    "##      arr = np.array([1.5, 2.6, 3.7])\n",
    "\n",
    "\n",
    "\n",
    "# if arr.dtype == float:\n",
    "#     print (\"array 'arr' is float\")\n",
    "# else :\n",
    "#     print(\"array 'arr' is not float\")"
   ]
  },
  {
   "cell_type": "code",
   "execution_count": 4,
   "id": "e3a6c3ff-a239-46fb-96a5-d15b1b4377e5",
   "metadata": {},
   "outputs": [],
   "source": [
    "##3. Create a NumPy array 'arr' with a data type of complex128 containing three complex numbers.\n",
    "\n",
    "\n",
    "# arr = np.array([3+4j,5+6j,7+8j],dtype = np.complex128)\n",
    "# arr.dtype"
   ]
  },
  {
   "cell_type": "code",
   "execution_count": 5,
   "id": "3ff10f49-48d6-4738-b83a-2fe4928ccdee",
   "metadata": {},
   "outputs": [],
   "source": [
    "##4. Convert an existing NumPy array 'arr' of integers to float32 data type.\n",
    "\n",
    "\n",
    "\n",
    "# arr = np.array([1,2,3,4])\n",
    "# arr1 = arr.astype(float)\n",
    "# arr1.dtype"
   ]
  },
  {
   "cell_type": "code",
   "execution_count": 6,
   "id": "b83b3073-1b23-47f8-bfd2-565c6ba1d202",
   "metadata": {},
   "outputs": [],
   "source": [
    "##5. Given a NumPy array 'arr' with float64 data type, convert it to float32 to reduce decimal precision.\n",
    "\n",
    "\n",
    "\n",
    "# arr = np.array([1.5021365, 2.6125461, 3.7214561])\n",
    "# arr1 = arr.astype(np.float32)"
   ]
  },
  {
   "cell_type": "code",
   "execution_count": 7,
   "id": "c68d132d-9bf0-4172-9e1e-dd0574a5ff9e",
   "metadata": {},
   "outputs": [],
   "source": [
    "##6. Write a function array_attributes that takes a NumPy array as input and returns its shape, size, and data  type.\n",
    "\n",
    "\n",
    "\n",
    "# def array_attributes(arr):\n",
    "#     return arr.shape , arr.size, arr.dtype\n",
    "# arr = np.arange(0,6,0.5)\n",
    "# array_attributes(arr)"
   ]
  },
  {
   "cell_type": "code",
   "execution_count": 8,
   "id": "97106565-3036-4b04-8b83-34426df20ce0",
   "metadata": {},
   "outputs": [],
   "source": [
    "##7. Create a function array_dimension that takes a NumPy array as input and returns its dimensionality.\n",
    "\n",
    "\n",
    "\n",
    "# def array_attributes(arr):\n",
    "#     return arr.ndim\n",
    "# arr = np.array([[[1,2,3],[4,5,6]]])\n",
    "# array_attributes(arr)"
   ]
  },
  {
   "cell_type": "code",
   "execution_count": 9,
   "id": "6eae80dd-ebd6-431c-b947-40d91cfbb187",
   "metadata": {},
   "outputs": [],
   "source": [
    "##8. Design a function item_size_info that takes a NumPy array as input and returns the item size and the total \n",
    "##   size in bytes.\n",
    "\n",
    "\n",
    "\n",
    "# def item_size_info(arr):\n",
    "#     return arr.itemsize, arr.nbytes\n",
    "# arr = np.array([[1,2,3],[4,5,6]])\n",
    "# item_size_info(arr)"
   ]
  },
  {
   "cell_type": "code",
   "execution_count": 10,
   "id": "974dc10e-0c84-47f7-b414-e5d4a51dd2d1",
   "metadata": {},
   "outputs": [],
   "source": [
    "##9. Create a function array_strides that takes a NumPy array as input and returns the strides of the array.\n",
    "\n",
    "\n",
    "\n",
    "# def array_strides(arr):\n",
    "#     return arr.strides\n",
    "# arr = np.reshape(np.arange(16),(4,4))\n",
    "# array_strides(arr)"
   ]
  },
  {
   "cell_type": "code",
   "execution_count": 11,
   "id": "4f51e4c5-1704-4052-af95-dc7dd150863d",
   "metadata": {},
   "outputs": [],
   "source": [
    "##10. Design a function shape_stride_relationship that takes a NumPy array as input and returns the \n",
    "##    shape and strides of the array.\n",
    "\n",
    "\n",
    "\n",
    "# def shape_stride_relationship(arr):\n",
    "#     return arr.shape ,arr.strides\n",
    "# arr = np.reshape(np.arange(12),(3,4))\n",
    "# shape_stride_relationship(arr)"
   ]
  },
  {
   "cell_type": "code",
   "execution_count": 12,
   "id": "25460506-67ae-41a5-89d4-875ffd1d0cd2",
   "metadata": {},
   "outputs": [],
   "source": [
    "##11. Create a function `create_zeros_array` that takes an integer `n` as input and returns a NumPy\n",
    "##    array of zeros with `n` elements.\n",
    "\n",
    "\n",
    "\n",
    "\n",
    "# def create_zeros_array(n):\n",
    "#     return np.zeros(n)\n",
    "# create_zeros_array(10)"
   ]
  },
  {
   "cell_type": "code",
   "execution_count": 13,
   "id": "3cea8b03-9422-4892-8717-d6252b1d27fd",
   "metadata": {},
   "outputs": [],
   "source": [
    "##12. Write a function `create_ones_matrix` that takes integers `rows` and `cols` as inputs and generates a 2D \n",
    "##     NumPy array filled with ones of size `rows x cols`.\n",
    "\n",
    "\n",
    "\n",
    "\n",
    "# def create_ones_matrix(rows,cols):\n",
    "#     return np.ones((rows,cols))\n",
    "# create_ones_matrix(3,4)"
   ]
  },
  {
   "cell_type": "code",
   "execution_count": 14,
   "id": "330aa56a-00da-4a01-a3fe-613ec9d5b355",
   "metadata": {},
   "outputs": [],
   "source": [
    "##13. Write a function `generate_range_array` that takes three integers start, stop, and step as arguments and \n",
    "##    creates a NumPy array with a range starting from `start`, ending at stop (exclusive), and with the specified `step`.\n",
    "\n",
    "\n",
    "\n",
    "# def generate_range_array(start, stop,step):\n",
    "#     return np.arange(start, stop,step)\n",
    "# generate_range_array(1,10,.5)"
   ]
  },
  {
   "cell_type": "code",
   "execution_count": 15,
   "id": "9722dbf1-7f5e-4991-ad47-9c7dfc7975ac",
   "metadata": {},
   "outputs": [],
   "source": [
    "##14. Design a function `generate_linear_space` that takes two floats `start`, `stop`, and an integer `num` as \n",
    "##    arguments and generates a NumPy array with num equally spaced values between `start` and `stop` (inclusive).\n",
    "\n",
    "\n",
    "\n",
    "# def generate_linear_space(start, stop, num):\n",
    "#     return np.linspace(start, stop, num)\n",
    "# generate_linear_space(1,10,20)\n"
   ]
  },
  {
   "cell_type": "code",
   "execution_count": 16,
   "id": "4f4ba663-1dcc-4b0f-82f6-0c45dbdb0b86",
   "metadata": {},
   "outputs": [],
   "source": [
    "##15. Create a function `create_identity_matrix` that takes an integer `n` as input and generates a square\n",
    "##    identity matrix of size `n x n` using `numpy.eye`.\n",
    "\n",
    "\n",
    "\n",
    "\n",
    "#def create_identity_matrix(n):\n",
    "#    return np.eye(n,dtype = int)\n",
    "#create_identity_matrix(3)"
   ]
  },
  {
   "cell_type": "code",
   "execution_count": 17,
   "id": "491e45c9-b610-473e-9b91-a4b962d02d14",
   "metadata": {},
   "outputs": [],
   "source": [
    "##16. Write a function that takes a Python list and converts it into a NumPy array.\n",
    "\n",
    "\n",
    "\n",
    "\n",
    "# def convert_into_array(lst):\n",
    "#     return np.array(lst)\n",
    "# lst = [[2,4,7,5],[5,10,15,11]]\n",
    "# convert_into_array(lst)"
   ]
  },
  {
   "cell_type": "code",
   "execution_count": 18,
   "id": "fc0d5c1e-3cdb-45d6-83af-e2072177d2db",
   "metadata": {},
   "outputs": [],
   "source": [
    "##17. Create a NumPy array and demonstrate the use of `numpy. view` to create a new array object with the same data.\n",
    "\n",
    "\n",
    "\n",
    "\n",
    "# arr = np.array([1,2,3,4])\n",
    "# view_arr = arr.view()\n",
    "# arr[2] = 51\n",
    "# print(arr)\n",
    "# print(view_arr)\n",
    "# changing in view_arr affescts the original array 'arr' and vice versa ."
   ]
  },
  {
   "cell_type": "code",
   "execution_count": 19,
   "id": "55234f57-8d23-4d1e-a72c-d66517921cd2",
   "metadata": {},
   "outputs": [],
   "source": [
    "##18. Write a function that takes two NumPy arrays and concatenates them along a specified axis.\n",
    "\n",
    "\n",
    "\n",
    "\n",
    "# arr1 = np.array([[1,2,3],[4,5,6]])\n",
    "# arr2 = np.array([[7],[8]])\n",
    "# np.concatenate((arr1,arr2),axis=1)"
   ]
  },
  {
   "cell_type": "code",
   "execution_count": 20,
   "id": "84e36576-d84f-4ee1-a219-b7f55bf62e77",
   "metadata": {},
   "outputs": [],
   "source": [
    "##19. Create two NumPy arrays with different shapes and concatenate them horizontally using `numpy. concatenate`.\n",
    "\n",
    "\n",
    "\n",
    "\n",
    "# arr1 = np.array([[1,2,3],[4,5,6],[7,8,9]])\n",
    "# arr2 = np.array([[1,2,12],[11,15,40]])\n",
    "# np.concatenate((arr1,arr2),axis=0)"
   ]
  },
  {
   "cell_type": "code",
   "execution_count": 21,
   "id": "88decb5d-00d1-4b45-8d40-e19db96143f4",
   "metadata": {},
   "outputs": [],
   "source": [
    "##20 Write a function that vertically stacks multiple NumPy arrays given as a list.\n",
    "\n",
    "\n",
    "\n",
    "\n",
    "# def ver_stack_multi_arr(lst):\n",
    "#     return np.vstack(lst)\n",
    "# arr1 = np.array([[1,3],[5,6]])\n",
    "# arr2 = np.array([[1,2],[11,15]])\n",
    "# arr3 = np.array([[1,2],[4,5]])\n",
    "# ver_stack_multi_arr([arr1,arr2,arr3])"
   ]
  },
  {
   "cell_type": "code",
   "execution_count": 22,
   "id": "4f48fb24-fd04-4da0-bcd3-aedb6fb6fcd1",
   "metadata": {},
   "outputs": [],
   "source": [
    "##21 Write a Python function using NumPy to create an array of integers within a specified\n",
    "##    range (inclusive) with a given step size.\n",
    "\n",
    "\n",
    "\n",
    "\n",
    "# def num_array(start,stop,step):\n",
    "#     return np.arange(start,stop+1,step)\n",
    "# num_array(1,10,0.5)"
   ]
  },
  {
   "cell_type": "code",
   "execution_count": 89,
   "id": "4fe56290-1a67-4e47-a866-efb0f5a0401e",
   "metadata": {},
   "outputs": [],
   "source": [
    "## 22. Write a Python function using NumPy to generate an array of 10 equally spaced values between 0 and 1 (inclusive)\n",
    "\n",
    "\n",
    "\n",
    "\n",
    "# arr = np.linspace(0,1,10)"
   ]
  },
  {
   "cell_type": "code",
   "execution_count": 23,
   "id": "27e20664-9091-461e-aabe-ea9e1576881b",
   "metadata": {},
   "outputs": [],
   "source": [
    "##23 Write a Python function using NumPy to create an array of 5 logarithmically spaced values\n",
    "##    between 1 and 1000 (inclusive)\n",
    "\n",
    "\n",
    "\n",
    "# np.logspace(start=0,stop=3,num=5,base=10)"
   ]
  },
  {
   "cell_type": "code",
   "execution_count": 24,
   "id": "e5f509db-1d98-47ad-9570-0f2b6445e0a1",
   "metadata": {},
   "outputs": [],
   "source": [
    "##24. Create a Pandas DataFrame using a NumPy array that contains 5 rows and 3 columns, where the values \n",
    "##    are random integers between 1 and 100.\n",
    "\n",
    "\n",
    "\n",
    "\n",
    "# arr = np.random.randint(1,100,(5,3))\n",
    "# df = pd.DataFrame(arr)\n",
    "# df"
   ]
  },
  {
   "cell_type": "code",
   "execution_count": 25,
   "id": "86b594ac-47f7-47c0-8ce9-3f8965f51ea1",
   "metadata": {},
   "outputs": [],
   "source": [
    "##25. Write a function that takes a Pandas DataFrame and replaces all negative values in a specific column \n",
    "##    with zeros. Use NumPy operations within the Pandas DataFrame.\n",
    "\n",
    "\n",
    "\n",
    "# def replace_negative_value(df,column):\n",
    "#     df[column] = np.where(df[column]<0,0,df[column])\n",
    "#     return df\n",
    "# arr = { \"A\" : [1,2,3,-5,-6,15,-7],\"B\":[5,-8,-11,10,85,25,-52]}\n",
    "# df = pd.DataFrame(arr)\n",
    "# replace_negative_value(df,\"B\")\n"
   ]
  },
  {
   "cell_type": "code",
   "execution_count": 26,
   "id": "892b27d1-0470-49bf-925f-f7aefb7974f0",
   "metadata": {},
   "outputs": [],
   "source": [
    "##26 Access the 3rd element from the given NumPy array.\n",
    "##  arr = np.array([10, 20, 30, 40, 50])\n",
    "\n",
    "\n",
    "# arr[2]"
   ]
  },
  {
   "cell_type": "code",
   "execution_count": 27,
   "id": "d93ec603-2c50-4fcb-af1f-8123f75259dc",
   "metadata": {},
   "outputs": [],
   "source": [
    "##27. Retrieve the element at index (1, 2) from the 2D NumPy array.\n",
    "## arr_2d = np.array([[1, 2, 3],\n",
    "##                     [4, 5, 6],\n",
    "##                    [7, 8, 9]])\n",
    "\n",
    "\n",
    "\n",
    "# arr_2d[1,2]"
   ]
  },
  {
   "cell_type": "code",
   "execution_count": 28,
   "id": "da2e6c91-edf7-4b61-868f-2cca23fbab41",
   "metadata": {},
   "outputs": [],
   "source": [
    "##28 Using boolean indexing, extract elements greater than 5 from the given NumPy array.\n",
    "##   arr = np.array([3, 8, 2, 10, 5, 7])\n",
    "\n",
    "\n",
    "\n",
    "# arr1 = arr>5"
   ]
  },
  {
   "cell_type": "code",
   "execution_count": 29,
   "id": "066f2597-dac9-4ce6-a87d-928d49d72c2f",
   "metadata": {},
   "outputs": [],
   "source": [
    "##29 Perform basic slicing to extract elements from index 2 to 5 (inclusive) from the given NumPy array.\n",
    "##   arr = np.array([1, 2, 3, 4, 5, 6, 7, 8, 9])\n",
    "\n",
    "\n",
    "\n",
    "# arr1 = arr[2:5+1]"
   ]
  },
  {
   "cell_type": "code",
   "execution_count": 30,
   "id": "ecb085dd-81b9-453d-9a87-9ba810a178cc",
   "metadata": {},
   "outputs": [],
   "source": [
    "##30 Slice the 2D NumPy array to extract the sub-array `[[2, 3], [5, 6]]` from the given array.\n",
    "##    arr_2d = np.array([[1, 2, 3],[4, 5, 6],[7, 8, 9]])\n",
    "\n",
    "\n",
    "\n",
    "# arr1 = arr_2d[0:2,[1,2]]"
   ]
  },
  {
   "cell_type": "code",
   "execution_count": 31,
   "id": "57e726ad-1128-4dea-b077-a8aff50be536",
   "metadata": {},
   "outputs": [],
   "source": [
    "##31. Write a NumPy function to extract elements in specific order from a given 2D array \n",
    "##    based on indices provided in another array.\n",
    "\n",
    "\n",
    "\n",
    "\n",
    "# def extract_element(arr,index):\n",
    "#     index = np.array(index)\n",
    "#     row , column = index[:,0],index[:,1]\n",
    "#     return arr[row,column]\n",
    "# arr = np.array([[1,2,3],[4,5,6],[7,8,9]])\n",
    "# index = [[0,2],[1,2],[2,1]]\n",
    "# extract_element(arr,index)"
   ]
  },
  {
   "cell_type": "code",
   "execution_count": 32,
   "id": "3e3c35d5-900a-4c32-ab5d-62051f8fd81a",
   "metadata": {},
   "outputs": [],
   "source": [
    "##32. Create a NumPy function that filters elements greater than a threshold from a given 1D array using boolean indexing.\n",
    "\n",
    "\n",
    "\n",
    "\n",
    "# def filters_element(arr,condition):\n",
    "#      return arr[arr>condition]\n",
    "# arr = np.array([25,10,12,21,36,52,23])\n",
    "# filters_element(arr,20)"
   ]
  },
  {
   "cell_type": "code",
   "execution_count": 33,
   "id": "5af65bbd-2fbe-453a-916c-84a7b87eb2da",
   "metadata": {},
   "outputs": [],
   "source": [
    "##33. Develop a NumPy function that extracts specific elements from a 3D array using indices provided in three \n",
    "##    separate arrays for each dimension.\n",
    "\n",
    "\n",
    "\n",
    "\n",
    "\n",
    "\n",
    "# def extract_element(arr,x,y,z):\n",
    "#     if arr.ndim==3:\n",
    "#        pass\n",
    "#     if x.shape==y.shape==z.shape:\n",
    "#         pass\n",
    "#     return arr[x,y,z]\n",
    "# data = np.arange(64).reshape(4,4,4)\n",
    "# x = np.array([[0,1],[2,3]])\n",
    "# y = np.array([[1,2],[3,2]])\n",
    "# z = np.array([[2,3],[3,3]])\n",
    "# extract_element(data,x,y,z)"
   ]
  },
  {
   "cell_type": "code",
   "execution_count": 34,
   "id": "38d64a32-1099-4941-b16e-5e400cbf9704",
   "metadata": {},
   "outputs": [],
   "source": [
    "##34. Write a NumPy function that returns elements from an array where both two conditions are \n",
    "##     satisfied using boolean indexing.\n",
    "\n",
    "\n",
    "\n",
    "# arr = np.array([[1,2,35],[11,15,21],[16,15,25]])\n",
    "# arr[(arr>2) & (arr<20)]"
   ]
  },
  {
   "cell_type": "code",
   "execution_count": 35,
   "id": "0ec33196-91a0-4640-9494-205b9ab0b2ad",
   "metadata": {},
   "outputs": [],
   "source": [
    "##35. Create a NumPy function that extracts elements from a 2D array using row and column indices \n",
    "##   provided in separate arrays.\n",
    "\n",
    "\n",
    "\n",
    "# def extract_element(arr,index):\n",
    "#     index = np.array(index)\n",
    "#     row , column = index[:,0],index[:,1]\n",
    "#     return arr[row,column]\n",
    "# arr = np.array([[1,2,3],[4,5,6],[7,8,9]])\n",
    "# index = [[0,2],[1,2],[2,1]]\n",
    "# extract_element(arr,index)"
   ]
  },
  {
   "cell_type": "code",
   "execution_count": 36,
   "id": "9d1c48a2-19ca-454a-b1b3-b68361ca2af1",
   "metadata": {},
   "outputs": [],
   "source": [
    "##36. Given an array arr of shape (3, 3), add a scalar value of 5 to each element using NumPy broadcasting.\n",
    "\n",
    "\n",
    "\n",
    "# arr = np.random.randint(1,10,(3,3))\n",
    "# arr +5"
   ]
  },
  {
   "cell_type": "code",
   "execution_count": 37,
   "id": "0a217233-c497-4e5a-ad64-e8d68a2c6224",
   "metadata": {},
   "outputs": [],
   "source": [
    "##37. Consider two arrays arr1 of shape (1, 3) and arr2 of shape (3, 4). Multiply each row of arr2 by the \n",
    "##    corresponding element in arr1 using NumPy broadcasting.\n",
    "\n",
    "\n",
    "\n",
    "\n",
    "# arr = np.random.randint(1,10,(1,3))\n",
    "# arr1 = np.random.randint(1,10,(3,4))\n",
    "# arr *arr1.T"
   ]
  },
  {
   "cell_type": "code",
   "execution_count": 38,
   "id": "0563a63e-7a33-412c-82bd-6b5e9a161c8a",
   "metadata": {},
   "outputs": [],
   "source": [
    "##38. Given a 1D array arr1 of shape (1, 4) and a 2D array arr2 of shape (4, 3), add arr1 to each\n",
    "##     row of arr2 using NumPy broadcasting.\n",
    "\n",
    "\n",
    "\n",
    "\n",
    "# arr1 = np.array([1,2,3,4])\n",
    "# arr2 = np.random.randint(1,10,(4,3))\n",
    "# arr1+arr2.T"
   ]
  },
  {
   "cell_type": "code",
   "execution_count": 39,
   "id": "1a834687-32d0-4e6c-8e3c-f303971e7ae1",
   "metadata": {},
   "outputs": [],
   "source": [
    "##39. Consider two arrays arr1 of shape (3, 1) and arr2 of shape (1, 3). Add these arrays using NumPy broadcasting.\n",
    "\n",
    "\n",
    "\n",
    "# arr1 = np.random.randint(1,10,(3,1))\n",
    "# arr2 = np.random.randint(1,10,(1,3))\n",
    "# arr1+arr2.T"
   ]
  },
  {
   "cell_type": "code",
   "execution_count": 40,
   "id": "b58fd2dd-394d-45e5-9845-4b92e09d67aa",
   "metadata": {},
   "outputs": [],
   "source": [
    "##40. Given arrays arr1 of shape (2, 3) and arr2 of shape (2, 2), perform multiplication using NumPy broadcasting.\n",
    "##    Handle the shape incompatibility.\n",
    "\n",
    "\n",
    "\n",
    "\n",
    "# arr1 = np.random.randint(1,10,(2,3))\n",
    "# arr2 = np.random.randint(1,10,(2,2))\n",
    "# arr1_new = arr1[:,:,np.newaxis]\n",
    "# arr2_new = arr2[:,np.newaxis,:]\n",
    "# arr1_new*arr2_new"
   ]
  },
  {
   "cell_type": "code",
   "execution_count": 41,
   "id": "b9c53267-e241-4ab5-8dab-bf3d0f438d78",
   "metadata": {},
   "outputs": [],
   "source": [
    "##41. Calculate column-wise mean for the given array:\n",
    "# arr = np.array([[1, 2, 3], [4, 5, 6]])\n",
    "\n",
    "\n",
    "\n",
    "# np.mean(arr,axis=0)"
   ]
  },
  {
   "cell_type": "code",
   "execution_count": 42,
   "id": "ef53dd39-e124-40fa-a0fb-a372dc823271",
   "metadata": {},
   "outputs": [],
   "source": [
    "##42. Find the maximum value in each row of the given array:\n",
    "# arr = np.array([[1, 2, 3], [4, 5, 6]])\n",
    "\n",
    "\n",
    "# np.max(arr,axis=1)"
   ]
  },
  {
   "cell_type": "code",
   "execution_count": 43,
   "id": "b51588e4-f70b-4461-8e1e-8c1943e3cd29",
   "metadata": {},
   "outputs": [],
   "source": [
    "##43. For the given array, find indices of maximum value in each column.\n",
    "##     arr = np.array([[1, 2, 3], [4, 5, 6]])\n",
    "\n",
    "\n",
    "\n",
    "# np.argmax(arr,axis=0)"
   ]
  },
  {
   "cell_type": "code",
   "execution_count": 44,
   "id": "5d903b4c-1ee3-4658-9396-1f06ee344725",
   "metadata": {},
   "outputs": [],
   "source": [
    "##44. For the given array, apply custom function to calculate moving sum along rows.\n",
    "##    arr = np.array([[1, 2, 3], [4, 5, 6]])\n",
    "\n",
    "\n",
    "\n",
    "# np.sum(arr,axis=1)"
   ]
  },
  {
   "cell_type": "code",
   "execution_count": 45,
   "id": "68baaac4-bcc2-43d8-8e10-22492624b345",
   "metadata": {},
   "outputs": [],
   "source": [
    "##45. In the given array, check if all elements in each column are even.\n",
    "##   arr = np.array([[2, 4, 6], [3, 5, 7]])\n",
    "\n",
    "\n",
    "\n",
    "# np.all(arr%2==0,axis =0)"
   ]
  },
  {
   "cell_type": "code",
   "execution_count": 46,
   "id": "aad42ee2-463e-4bdc-92d1-8c2beac977b3",
   "metadata": {},
   "outputs": [],
   "source": [
    "##46. Given a NumPy array arr, reshape it into a matrix of dimensions `m` rows and `n` columns. Return the reshaped matrix.\n",
    "##    original_array = np.array([1, 2, 3, 4, 5, 6])\n",
    "\n",
    "\n",
    "\n",
    "# new_array = original_array.reshape(3,2)"
   ]
  },
  {
   "cell_type": "code",
   "execution_count": 47,
   "id": "75000194-3f0b-42ca-b60f-797cdb906e37",
   "metadata": {},
   "outputs": [],
   "source": [
    "##47. Create a function that takes a matrix as input and returns the flattened array.\n",
    "##       input_matrix = np.array([[1, 2, 3], [4, 5, 6]])\n",
    "\n",
    "\n",
    "\n",
    "\n",
    "# def flatten_array(arr):\n",
    "#     return arr.flatten()\n",
    "# flatten_array(input_matrix)"
   ]
  },
  {
   "cell_type": "code",
   "execution_count": 48,
   "id": "ad47cfdd-6e77-4a9f-81e6-6a7de2c5d8c3",
   "metadata": {},
   "outputs": [],
   "source": [
    "##48. Write a function that concatenates two given arrays along a specified axis.\n",
    "##    array1 = np.array([[1, 2], [3, 4]])\n",
    "##    array2 = np.array([[5, 6], [7, 8]])\n",
    "\n",
    "\n",
    "\n",
    "\n",
    "# def concatenate_array(arr1,arr2,axis=1):\n",
    "#     return np.append(arr1,arr2,axis)\n",
    "# concatenate_array(array1,array2,axis=0)"
   ]
  },
  {
   "cell_type": "code",
   "execution_count": 49,
   "id": "fd2597e5-9c7c-44f1-ad10-3e55759bf1a5",
   "metadata": {},
   "outputs": [],
   "source": [
    "##49. Create a function that splits an array into multiple sub-arrays along a specified axis.\n",
    "##      original_array = np.array([[1, 2, 3], [4, 5, 6], [7, 8, 9]])\n",
    "\n",
    "\n",
    "\n",
    "\n",
    "# def sub_array(arr):\n",
    "#     return np.array_split(arr,4,axis=1)\n",
    "# sub_array(original_array)"
   ]
  },
  {
   "cell_type": "code",
   "execution_count": 50,
   "id": "cf0b96b2-a968-4895-b630-97cb6511e886",
   "metadata": {},
   "outputs": [],
   "source": [
    "##50. Write a function that inserts and then deletes elements from a given array at specified indices.\n",
    "##    original_array = np.array([1, 2, 3, 4, 5])\n",
    "##    indices_to_insert = [2, 4]\n",
    "##   values_to_insert = [10, 11]\n",
    "##   indices_to_delete = [1, 3]\n",
    "\n",
    "\n",
    "\n",
    "\n",
    "# def manipulate_array(arr,indices,insert,delete):\n",
    "#     arr1 = np.insert(arr,indices,insert)\n",
    "#     arr2 = np.delete(arr1,delete)\n",
    "#     return arr2\n",
    "# original_array = np.array([1, 2, 3, 4, 5])\n",
    "# ndices_to_insert = [2, 4]\n",
    "# values_to_insert = [10, 11]\n",
    "# indices_to_delete = [1, 3]\n",
    "# manipulate_array(original_array,ndices_to_insert,values_to_insert,indices_to_delete)"
   ]
  },
  {
   "cell_type": "code",
   "execution_count": 51,
   "id": "92a0a147-9989-426d-99b2-89d051b090b9",
   "metadata": {},
   "outputs": [],
   "source": [
    "##51. Create a NumPy array `arr1` with random integers and another array `arr2` with integers from 1 to 10. \n",
    "##    Perform element-wise addition between `arr1` and `arr2`.\n",
    "\n",
    "\n",
    "\n",
    "\n",
    "# arr1 = np.random.randint(1,10,(3,3))\n",
    "# arr2 = np.random.randint(1,10,(3,3))\n",
    "# arr1+arr2"
   ]
  },
  {
   "cell_type": "code",
   "execution_count": 52,
   "id": "bd4321a1-24b5-4655-9929-52fcd0c4a490",
   "metadata": {},
   "outputs": [],
   "source": [
    "##52. Generate a NumPy array `arr1` with sequential integers from 10 to 1 and another array `arr2` with integers \n",
    "##    from 1 to 10. Subtract `arr2` from `arr1` element-wise.\n",
    "\n",
    "\n",
    "\n",
    "\n",
    "# arr1 = np.arange(10,0,-1)\n",
    "# arr2 = np.arange(1,11)\n",
    "# arr1-arr2"
   ]
  },
  {
   "cell_type": "code",
   "execution_count": 53,
   "id": "ff9708f4-ee99-4a54-93cb-368b88f4b079",
   "metadata": {},
   "outputs": [],
   "source": [
    "##53. Create a NumPy array `arr1` with random integers and another array `arr2` with integers from 1 to 5. \n",
    "##    Perform element-wise multiplication between `arr1` and `arr2`.\n",
    "\n",
    "\n",
    "\n",
    "\n",
    "# arr1 = np.random.randint(1,5,(3,3))\n",
    "# arr2 = np.random.randint(1,5,(3,3))\n",
    "# arr1*arr2"
   ]
  },
  {
   "cell_type": "code",
   "execution_count": 54,
   "id": "20e80cb0-969b-4c59-9b48-5d60071eae61",
   "metadata": {},
   "outputs": [],
   "source": [
    "##54. Generate a NumPy array `arr1` with even integers from 2 to 10 and another array `arr2` with integers from 1 \n",
    "##   to 5. Perform element-wise division of `arr1` by `arr2`.\n",
    "\n",
    "\n",
    "\n",
    "\n",
    "# arr1 = np.arange(2,11,2)\n",
    "# arr2 = np.arange(1,6)\n",
    "# arr1/arr2"
   ]
  },
  {
   "cell_type": "code",
   "execution_count": 55,
   "id": "9cf11cd9-a186-4053-bc3b-a9062153ffdd",
   "metadata": {},
   "outputs": [],
   "source": [
    "##55. Create a NumPy array `arr1` with integers from 1 to 5 and another array `arr2` with the same numbers \n",
    "##    reversed. Calculate the exponentiation of `arr1` raised to the power of `arr2` element-wise.\n",
    "\n",
    "\n",
    "\n",
    "# arr1 = np.arange(1,6)\n",
    "# arr2 = arr1[::-1]\n",
    "# exponential = np.exp(arr1)\n",
    "# np.power(arr1,exponential)"
   ]
  },
  {
   "cell_type": "code",
   "execution_count": 56,
   "id": "ecd7fed8-9f17-45fe-b50c-14d941a174f5",
   "metadata": {},
   "outputs": [],
   "source": [
    "##56. Write a function that counts the occurrences of a specific substring within a NumPy array of strings.\n",
    "##     arr = np.array(['hello', 'world', 'hello', 'numpy', 'hello'])\n",
    "\n",
    "\n",
    "\n",
    "\n",
    "# def count_substring(arr,substring):\n",
    "#     arr1 = np.char.count(arr,substring)\n",
    "#     return  arr1.sum()\n",
    "# st1 = \"hello\"\n",
    "# st2 = \"numpy\"\n",
    "# st3 = \"world\"\n",
    "# print(f'{st1} is {count_substring(arr,st1)} time occurrence in in array of string')\n",
    "# print(f'{st2} is {count_substring(arr,st2)} time occurrence in in array of string')\n",
    "# print(f'{st3} is {count_substring(arr,st3)} time occurrence in in array of string')"
   ]
  },
  {
   "cell_type": "code",
   "execution_count": 57,
   "id": "88daf8d3-133d-47cb-ab9f-24a1ca6ad23c",
   "metadata": {},
   "outputs": [],
   "source": [
    "##57. Write a function that extracts uppercase characters from a NumPy array of strings.\n",
    "##     arr = np.array(['Hello', 'World', 'OpenAI', 'GPT'])\n",
    "\n",
    "\n",
    "\n",
    "\n",
    "# l = []\n",
    "# for i in arr:\n",
    "#     for char in i:\n",
    "#         if char.isupper():\n",
    "#             l.append(char)\n",
    "# print(l)        "
   ]
  },
  {
   "cell_type": "code",
   "execution_count": 58,
   "id": "f9b1b367-e8ba-4e3a-a899-0f3f7a57180f",
   "metadata": {},
   "outputs": [],
   "source": [
    "##58. Write a function that replaces occurrences of a substring in a NumPy array of strings with a new string.\n",
    "##     arr = np.array(['apple', 'banana', 'grape', 'pineapple'])\n",
    "\n",
    "\n",
    "\n",
    "\n",
    "# def replace_string(arr,arr1):\n",
    "#     for i in range(len(arr)) :\n",
    "#         arr = np.insert(arr,i,arr1[i])\n",
    "#         arr= np.delete(arr,[i+1])\n",
    "#     return arr\n",
    "# arr = np.array(['apple', 'banana', 'grape', 'pineapple'])\n",
    "# arr1 = np.array([\"red\",\"yellow\", \"green\",\"light_yellow\"])\n",
    "# replace_string(arr,arr1)"
   ]
  },
  {
   "cell_type": "code",
   "execution_count": 59,
   "id": "5016308e-b150-4f4b-8fec-63b6c9eb0cee",
   "metadata": {},
   "outputs": [],
   "source": [
    "##59. Write a function that concatenates strings in a NumPy array element-wise.\n",
    "##   arr1 = np.array(['Hello ', 'World '])\n",
    "##    arr2 = np.array(['Open', 'AI'])\n",
    "\n",
    "\n",
    "\n",
    "\n",
    "# def concatenate_string(arr1,arr2):\n",
    "#     return arr1+arr2\n",
    "# concatenate_string(arr1,arr2)"
   ]
  },
  {
   "cell_type": "code",
   "execution_count": 60,
   "id": "ad8adbdc-3934-48b9-8997-b09e6b258307",
   "metadata": {},
   "outputs": [],
   "source": [
    "##60. Write a function that finds the length of the longest string in a NumPy array.\n",
    "##    arr = np.array(['apple', 'banana', 'grape', 'pineapple'])\n",
    "\n",
    "\n",
    "\n",
    "\n",
    "# def longest_length(arr):\n",
    "#     arr1 = arr.flatten()\n",
    "#     l = []\n",
    "#     for i in arr1:\n",
    "#         max_lent = len(str(i))\n",
    "#         l.append(max_lent)\n",
    "#     return min(l)\n",
    "# arr = np.array(['apple', 'banana', 'grape', 'pineapple'])\n",
    "# longest_length(arr)"
   ]
  },
  {
   "cell_type": "code",
   "execution_count": 61,
   "id": "06b46f64-49e9-4c5b-94c9-8d7f2c9227dc",
   "metadata": {},
   "outputs": [],
   "source": [
    "##61. Create a dataset of 100 random integers between 1 and 1000. Compute the mean, median, variance, and \n",
    "##     standard deviation of the dataset using NumPy's functions.\n",
    "\n",
    "\n",
    "\n",
    "\n",
    "# arr = np.random.randint(1,1000,(1,100))\n",
    "# print(\"mean : \" ,np.mean(arr),\"\\nmedian :\" ,np.median(arr),\"\\nstandard deviation :\", np.std(arr),\n",
    "#  \"\\nvariance : \",np.var(arr))"
   ]
  },
  {
   "cell_type": "code",
   "execution_count": 62,
   "id": "5aab93c6-02c8-460c-a993-03cecc7d4ffd",
   "metadata": {},
   "outputs": [],
   "source": [
    "##62. Generate an array of 50 random numbers between 1 and 100. Find the 25th and 75th percentiles of the dataset.\n",
    "\n",
    "\n",
    "\n",
    "# arr = np.random.randint(1,100,(1,50))"
   ]
  },
  {
   "cell_type": "code",
   "execution_count": 63,
   "id": "28873175-01eb-4462-8511-51b8ed697b98",
   "metadata": {},
   "outputs": [],
   "source": [
    "##63. Create two arrays representing two sets of variables. Compute the correlation coefficient between these \n",
    "##     arrays using NumPy's `corrcoef` function.\n",
    "\n",
    "\n",
    "\n",
    "# x = np.array([10,20,30,40,50])\n",
    "# y = np.array([12,14,16,18,19])\n",
    "# np.corrcoef(x,y)[0,1]"
   ]
  },
  {
   "cell_type": "code",
   "execution_count": 64,
   "id": "dafc8d0d-bfa2-4a83-a1a0-e8b6161e2800",
   "metadata": {},
   "outputs": [],
   "source": [
    "##64. Create two matrices and perform matrix multiplication using NumPy's `dot` function.\n",
    "\n",
    "\n",
    "\n",
    "# arr1 = np.random.randint(1,100,(3,3))\n",
    "# arr2 = np.random.randint(1,100,(3,2))\n",
    "# np.dot(arr1,arr2)"
   ]
  },
  {
   "cell_type": "code",
   "execution_count": 65,
   "id": "8e96c53a-1cd1-4efb-b0ee-aa4db1e0d2f9",
   "metadata": {},
   "outputs": [],
   "source": [
    "##65. Create an array of 50 integers between 10 and 1000. Calculate the 10th, 50th (median), and 90th \n",
    "##    percentiles along with the first and third quartiles.\n",
    "\n",
    "\n",
    "\n",
    "# arr = np.random.randint(10,1000,(5,10))\n",
    "# np.percentile(arr,[10,50,90,25,75])"
   ]
  },
  {
   "cell_type": "code",
   "execution_count": 66,
   "id": "d060c58e-4278-4b83-94e6-264d8c39d040",
   "metadata": {},
   "outputs": [],
   "source": [
    "##66. Create a NumPy array of integers and find the index of a specific element.\n",
    "\n",
    "\n",
    "\n",
    "# arr = np.random.randint(1,100,(2,3))\n",
    "# np.argwhere(arr==36)"
   ]
  },
  {
   "cell_type": "code",
   "execution_count": 67,
   "id": "b4866f27-75f4-4a27-ab7e-149a30c47b5c",
   "metadata": {},
   "outputs": [],
   "source": [
    "##67. Generate a random NumPy array and sort it in ascending order.\n",
    "\n",
    "\n",
    "\n",
    "# arr = np.random.randint(10,1000,(5,10))\n",
    "# np.sort(arr)"
   ]
  },
  {
   "cell_type": "code",
   "execution_count": 68,
   "id": "f5770d09-81fc-4612-874a-c4117b5835fe",
   "metadata": {},
   "outputs": [],
   "source": [
    "##68. Filter elements >20  in the given NumPy array.\n",
    "##      arr = np.array([12, 25, 6, 42, 8, 30])\n",
    "\n",
    "\n",
    "\n",
    "# arr[arr>20]"
   ]
  },
  {
   "cell_type": "code",
   "execution_count": 69,
   "id": "dce5665d-b03a-4ef2-a37e-1d0abd7761d5",
   "metadata": {},
   "outputs": [],
   "source": [
    "##69. Filter elements which are divisible by 3 from a given NumPy array.\n",
    "##    arr = np.array([1, 5, 8, 12, 15])\n",
    "\n",
    "\n",
    "\n",
    "# arr[arr%3==0]"
   ]
  },
  {
   "cell_type": "code",
   "execution_count": 70,
   "id": "ca5a9495-0e61-4bac-b996-fe7ea94b8d97",
   "metadata": {},
   "outputs": [],
   "source": [
    "##70. Filter elements which are ≥ 20 and ≤ 40 from a given NumPy array.\n",
    "##   arr = np.array([10, 20, 30, 40, 50])\n",
    "\n",
    "\n",
    "\n",
    "\n",
    "# arr[(arr>=20) & (arr<=40)]"
   ]
  },
  {
   "cell_type": "code",
   "execution_count": 71,
   "id": "0185b43e-ab3b-4c7d-97c1-9a68577e4840",
   "metadata": {},
   "outputs": [],
   "source": [
    "##71. For the given NumPy array, check its byte order using the `dtype` attribute byteorder.\n",
    "##       arr = np.array([1, 2, 3])\n",
    "\n",
    "\n",
    "\n",
    "\n",
    "# arr.dtype.byteorder"
   ]
  },
  {
   "cell_type": "code",
   "execution_count": 72,
   "id": "aa724648-34bb-4ae6-979c-31ff8dfefbf5",
   "metadata": {},
   "outputs": [],
   "source": [
    "##72. For the given NumPy array, perform byte swapping in place using `byteswap()`.\n",
    "##  arr = np.array([1, 2, 3], dtype=np.int32)\n",
    "\n",
    "\n",
    "\n",
    "# arr.byteswap()"
   ]
  },
  {
   "cell_type": "code",
   "execution_count": 73,
   "id": "10b168b4-4682-4898-94d8-4990c404136d",
   "metadata": {},
   "outputs": [],
   "source": [
    "##73. For the given NumPy array, swap its byte order without modifying the original array using `newbyteorder()`.\n",
    "##    arr = np.array([1, 2, 3], dtype=np.int32)\n",
    "\n",
    "\n",
    "\n",
    "# arr.byteswap().newbyteorder()"
   ]
  },
  {
   "cell_type": "code",
   "execution_count": 74,
   "id": "80fd32ab-e078-49f6-9fc0-822a0f329502",
   "metadata": {},
   "outputs": [],
   "source": [
    "##74. For the given NumPy array and swap its byte order conditionally based on system endianness using `newbyteorder()`.\n",
    "##     arr = np.array([1, 2, 3], dtype=np.int32)\n",
    "\n",
    "\n",
    "\n",
    "\n",
    "\n",
    "# def byte_order_conditionally(arr):\n",
    "#     if arr.dtype.byteorder == '=':\n",
    "#         return arr.newbyteorder('<')\n",
    "#     elif arr.dtype.byteorder == '|':\n",
    "#         return arr.newbyteorder('<')\n",
    "#     elif arr.dtype.byteorder == '>':\n",
    "#         return arr.newbyteorder('<')\n",
    "#     else:\n",
    "#         return arr\n",
    "# byte_order_conditionally(arr)"
   ]
  },
  {
   "cell_type": "code",
   "execution_count": 75,
   "id": "ee5c8a53-e0d7-42e6-992e-b9ec0e54f931",
   "metadata": {},
   "outputs": [],
   "source": [
    "##75. For the given NumPy array, check if byte swapping is necessary for the current system\n",
    "##    using `dtype` attribute `byteorder`.\n",
    "##    arr = np.array([1, 2, 3], dtype=np.int32)\n",
    "\n",
    "\n",
    "\n",
    "\n",
    "# byte_order = arr.dtype.byteorder\n",
    "# native = sys.byteorder == 'little'\n",
    "# needs_swap = ((byte_order == '='and native) or (byte_order == '<' and not native))\n",
    "# needs_swap"
   ]
  },
  {
   "cell_type": "code",
   "execution_count": 76,
   "id": "32c5e808-3d5d-4a44-ac1a-ab109cdcf27f",
   "metadata": {},
   "outputs": [],
   "source": [
    "##76. Create a NumPy array `arr1` with values from 1 to 10. Create a copy of `arr1` named `copy_arr` and modify \n",
    "##     an element in `copy_arr`. Check if modifying `copy_arr` affects `arr1`.\n",
    "\n",
    "\n",
    "\n",
    "\n",
    "# arr1 = np.arange(1,10,2)\n",
    "# copy_arr = arr1.copy()\n",
    "# copy_arr[2] = 60\n",
    "# np.array_equal(copy_arr,arr1)"
   ]
  },
  {
   "cell_type": "code",
   "execution_count": 77,
   "id": "41e4a514-380c-4bcb-b610-32f5e9941f4b",
   "metadata": {},
   "outputs": [],
   "source": [
    "##77. Create a 2D NumPy array `matrix` of shape (3, 3) with random integers. Extract a slice `view_slice` from \n",
    "##     the matrix. Modify an element in `view_slice` and observe if it changes the original `matrix`.\n",
    "\n",
    "\n",
    "\n",
    "\n",
    "# matrix = np.random.randint(1,10,(3,3))\n",
    "# view_slice = matrix[0:2,1:3]\n",
    "# view_slice[:1,0:2] = [10,11]\n",
    "# print(\"matrix affects\")"
   ]
  },
  {
   "cell_type": "code",
   "execution_count": 78,
   "id": "f36b02dd-f8a7-4a33-b157-85d53688f184",
   "metadata": {},
   "outputs": [],
   "source": [
    "##78. Create a NumPy array `array_a` of shape (4, 3) with sequential integers from 1 to 12. Extract a slice \n",
    "##    `view_b` from `array_a` and broadcast the addition of 5 to view_b. Check if it alters the original `array_a`\n",
    "\n",
    "\n",
    "\n",
    "\n",
    "# array_a = np.random.randint(1,12,(4,3))\n",
    "# view_b = array_a[0:3,[1,2]]\n",
    "# new_ar = view_b + 5\n",
    "# if np.array_equal(array_a[0:3,[1,2]],new_ar):\n",
    "#     print(\"array_a is affected by new_ar\")\n",
    "# else:\n",
    "#     print(\"array_a is not affected by new_ar\")"
   ]
  },
  {
   "cell_type": "code",
   "execution_count": 79,
   "id": "f75fc897-d668-4565-97c5-92ebf88c6e47",
   "metadata": {},
   "outputs": [],
   "source": [
    "##79. Create a NumPy array `orig_array` of shape (2, 4) with values from 1 to 8. Create a reshaped view `reshaped_view` of \n",
    "##    shape (4, 2) from orig_array. Modify an element in `reshaped_view` and check if it reflects changes\n",
    "##    in the original `orig_array`.\n",
    "\n",
    "\n",
    "\n",
    "\n",
    "\n",
    "# orig_array = np.random.randint(1,8,(2,4))\n",
    "# reshaped_view = orig_array.reshape(4,2)\n",
    "# reshaped_view[:1,:1] = 10\n",
    "# if np.array_equal(orig_array,reshaped_view.reshape(4,2)):\n",
    "#     print(\"orig_array does not affect\")\n",
    "# else:\n",
    "#     print(\"orig_array affected\")"
   ]
  },
  {
   "cell_type": "code",
   "execution_count": 80,
   "id": "ebabfa55-49c8-491b-8a97-6c22afbe980c",
   "metadata": {},
   "outputs": [],
   "source": [
    "##80. Create a NumPy array `data` of shape (3, 4) with random integers. Extract a copy `data_copy` of elements greater \n",
    "##    than 5. Modify an element in `data_copy` and verify if it affects the original `data`.\n",
    "\n",
    "\n",
    "\n",
    "\n",
    "# data = np.random.randint(1,10,(3,4))\n",
    "# data_copy = data[data>5]\n",
    "# data_copy[1] = 10\n",
    "# if np.array_equal(data,data):\n",
    "#     print(\"original Data did not be affected by data_copy \")\n",
    "# else:\n",
    "#     print(\"original Data is affescted by data_copy\")"
   ]
  },
  {
   "cell_type": "code",
   "execution_count": 81,
   "id": "84e3022e-7146-4074-ada7-2f5e3006206e",
   "metadata": {},
   "outputs": [],
   "source": [
    "##81. Create two matrices A and B of identical shape containing integers and perform addition and subtraction\n",
    "##    operations between them\n",
    "\n",
    "\n",
    "\n",
    "\n",
    "# A = np.random.randint(1,100,(3,3))\n",
    "# B = np.random.randint(1,100,(3,3))\n",
    "# np.subtract(A,B),np.add(A,B)"
   ]
  },
  {
   "cell_type": "code",
   "execution_count": 82,
   "id": "1104df71-c78b-4788-b355-636c7304184a",
   "metadata": {},
   "outputs": [],
   "source": [
    "##82. Generate two matrices `C` (3x2) and `D` (2x4) and perform matrix multiplication.\n",
    "\n",
    "\n",
    "\n",
    "\n",
    "# C = np.random.randint(1,100,(3,2))\n",
    "# D = np.random.randint(1,100,(2,4))\n",
    "# C @ D"
   ]
  },
  {
   "cell_type": "code",
   "execution_count": 83,
   "id": "72a81263-9f28-4fbb-9edc-78ddc404467d",
   "metadata": {},
   "outputs": [],
   "source": [
    "##83. Create a matrix `E` and find its transpose.\n",
    "\n",
    "\n",
    "\n",
    "# E = np.random.randint(1,100,(3,4))\n",
    "# E.T"
   ]
  },
  {
   "cell_type": "code",
   "execution_count": 84,
   "id": "ecf541f2-7abe-461e-a13d-92969fc152a6",
   "metadata": {},
   "outputs": [],
   "source": [
    "##84. Generate a square matrix `F` and compute its determinant.\n",
    "\n",
    "\n",
    "\n",
    "# F = np.random.randint(1,100,(3,3))\n",
    "# np.linalg.det(F)"
   ]
  },
  {
   "cell_type": "code",
   "execution_count": 85,
   "id": "3f90d00b-2f80-4f2d-8afb-06d87d7c4714",
   "metadata": {},
   "outputs": [],
   "source": [
    "##85. Create a square matrix `G` and find its inverse\n",
    "\n",
    "\n",
    "\n",
    "# G = np.random.randint(1,100,(2,2))\n",
    "# np.linalg.inv(G)"
   ]
  },
  {
   "cell_type": "code",
   "execution_count": null,
   "id": "ad0768d8-cc23-4ac3-9dc5-9edfabc6f348",
   "metadata": {},
   "outputs": [],
   "source": []
  }
 ],
 "metadata": {
  "kernelspec": {
   "display_name": "Python 3 (ipykernel)",
   "language": "python",
   "name": "python3"
  },
  "language_info": {
   "codemirror_mode": {
    "name": "ipython",
    "version": 3
   },
   "file_extension": ".py",
   "mimetype": "text/x-python",
   "name": "python",
   "nbconvert_exporter": "python",
   "pygments_lexer": "ipython3",
   "version": "3.13.1"
  }
 },
 "nbformat": 4,
 "nbformat_minor": 5
}
